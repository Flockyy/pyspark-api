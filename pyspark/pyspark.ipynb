{
 "cells": [
  {
   "cell_type": "code",
   "execution_count": 1,
   "metadata": {},
   "outputs": [],
   "source": [
    "from pyspark.sql import SparkSession\n",
    "\n",
    "spark = SparkSession.builder.getOrCreate()"
   ]
  },
  {
   "cell_type": "code",
   "execution_count": 3,
   "id": "764c9440",
   "metadata": {},
   "outputs": [],
   "source": [
    "df = spark.read.csv('work/mushrooms.csv',header=True,inferSchema=True)"
   ]
  },
  {
   "attachments": {},
   "cell_type": "markdown",
   "id": "08845cb4",
   "metadata": {},
   "source": [
    "About this file\n",
    "\n",
    "* Attribute Information: (classes: edible=e, poisonous=p)\n",
    "\n",
    "* cap-shape: bell=b,conical=c,convex=x,flat=f, knobbed=k,sunken=s\n",
    "\n",
    "* cap-surface: fibrous=f,grooves=g,scaly=y,smooth=s\n",
    "\n",
    "* cap-color: brown=n,buff=b,cinnamon=c,gray=g,green=r,pink=p,purple=u,red=e,white=w,yellow=y\n",
    "\n",
    "* bruises: bruises=t,no=f\n",
    "\n",
    "* odor: almond=a,anise=l,creosote=c,fishy=y,foul=f,musty=m,none=n,pungent=p,spicy=s\n",
    "\n",
    "* gill-attachment: attached=a,descending=d,free=f,notched=n\n",
    "\n",
    "* gill-spacing: close=c,crowded=w,distant=d\n",
    "\n",
    "* gill-size: broad=b,narrow=n\n",
    "\n",
    "* gill-color: black=k,brown=n,buff=b,chocolate=h,gray=g, green=r,orange=o,pink=p,purple=u,red=e,white=w,yellow=y\n",
    "\n",
    "* stalk-shape: enlarging=e,tapering=t\n",
    "\n",
    "* stalk-root: bulbous=b,club=c,cup=u,equal=e,rhizomorphs=z,rooted=r,missing=?\n",
    "\n",
    "* stalk-surface-above-ring: fibrous=f,scaly=y,silky=k,smooth=s\n",
    "\n",
    "* stalk-surface-below-ring: fibrous=f,scaly=y,silky=k,smooth=s\n",
    "\n",
    "* stalk-color-above-ring: brown=n,buff=b,cinnamon=c,gray=g,orange=o,pink=p,red=e,white=w,yellow=y\n",
    "\n",
    "* stalk-color-below-ring: brown=n,buff=b,cinnamon=c,gray=g,orange=o,pink=p,red=e,white=w,yellow=y\n",
    "\n",
    "* veil-type: partial=p,universal=u\n",
    "\n",
    "* veil-color: brown=n,orange=o,white=w,yellow=y\n",
    "\n",
    "* ring-number: none=n,one=o,two=t\n",
    "\n",
    "* ring-type: cobwebby=c,evanescent=e,flaring=f,large=l,none=n,pendant=p,sheathing=s,zone=z\n",
    "\n",
    "* spore-print-color: black=k,brown=n,buff=b,chocolate=h,green=r,orange=o,purple=u,white=w,yellow=y\n",
    "\n",
    "* population: abundant=a,clustered=c,numerous=n,scattered=s,several=v,solitary=y\n",
    "\n",
    "* habitat: grasses=g,leaves=l,meadows=m,paths=p,urban=u,waste=w,woods=d"
   ]
  },
  {
   "cell_type": "code",
   "execution_count": 4,
   "id": "b5161aad",
   "metadata": {},
   "outputs": [
    {
     "data": {
      "text/html": [
       "<table border='1'>\n",
       "<tr><th>class</th><th>cap-shape</th><th>cap-surface</th><th>cap-color</th><th>bruises</th><th>odor</th><th>gill-attachment</th><th>gill-spacing</th><th>gill-size</th><th>gill-color</th><th>stalk-shape</th><th>stalk-root</th><th>stalk-surface-above-ring</th><th>stalk-surface-below-ring</th><th>stalk-color-above-ring</th><th>stalk-color-below-ring</th><th>veil-type</th><th>veil-color</th><th>ring-number</th><th>ring-type</th><th>spore-print-color</th><th>population</th><th>habitat</th></tr>\n",
       "<tr><td>p</td><td>x</td><td>s</td><td>n</td><td>t</td><td>p</td><td>f</td><td>c</td><td>n</td><td>k</td><td>e</td><td>e</td><td>s</td><td>s</td><td>w</td><td>w</td><td>p</td><td>w</td><td>o</td><td>p</td><td>k</td><td>s</td><td>u</td></tr>\n",
       "<tr><td>e</td><td>x</td><td>s</td><td>y</td><td>t</td><td>a</td><td>f</td><td>c</td><td>b</td><td>k</td><td>e</td><td>c</td><td>s</td><td>s</td><td>w</td><td>w</td><td>p</td><td>w</td><td>o</td><td>p</td><td>n</td><td>n</td><td>g</td></tr>\n",
       "<tr><td>e</td><td>b</td><td>s</td><td>w</td><td>t</td><td>l</td><td>f</td><td>c</td><td>b</td><td>n</td><td>e</td><td>c</td><td>s</td><td>s</td><td>w</td><td>w</td><td>p</td><td>w</td><td>o</td><td>p</td><td>n</td><td>n</td><td>m</td></tr>\n",
       "<tr><td>p</td><td>x</td><td>y</td><td>w</td><td>t</td><td>p</td><td>f</td><td>c</td><td>n</td><td>n</td><td>e</td><td>e</td><td>s</td><td>s</td><td>w</td><td>w</td><td>p</td><td>w</td><td>o</td><td>p</td><td>k</td><td>s</td><td>u</td></tr>\n",
       "<tr><td>e</td><td>x</td><td>s</td><td>g</td><td>f</td><td>n</td><td>f</td><td>w</td><td>b</td><td>k</td><td>t</td><td>e</td><td>s</td><td>s</td><td>w</td><td>w</td><td>p</td><td>w</td><td>o</td><td>e</td><td>n</td><td>a</td><td>g</td></tr>\n",
       "<tr><td>e</td><td>x</td><td>y</td><td>y</td><td>t</td><td>a</td><td>f</td><td>c</td><td>b</td><td>n</td><td>e</td><td>c</td><td>s</td><td>s</td><td>w</td><td>w</td><td>p</td><td>w</td><td>o</td><td>p</td><td>k</td><td>n</td><td>g</td></tr>\n",
       "<tr><td>e</td><td>b</td><td>s</td><td>w</td><td>t</td><td>a</td><td>f</td><td>c</td><td>b</td><td>g</td><td>e</td><td>c</td><td>s</td><td>s</td><td>w</td><td>w</td><td>p</td><td>w</td><td>o</td><td>p</td><td>k</td><td>n</td><td>m</td></tr>\n",
       "<tr><td>e</td><td>b</td><td>y</td><td>w</td><td>t</td><td>l</td><td>f</td><td>c</td><td>b</td><td>n</td><td>e</td><td>c</td><td>s</td><td>s</td><td>w</td><td>w</td><td>p</td><td>w</td><td>o</td><td>p</td><td>n</td><td>s</td><td>m</td></tr>\n",
       "<tr><td>p</td><td>x</td><td>y</td><td>w</td><td>t</td><td>p</td><td>f</td><td>c</td><td>n</td><td>p</td><td>e</td><td>e</td><td>s</td><td>s</td><td>w</td><td>w</td><td>p</td><td>w</td><td>o</td><td>p</td><td>k</td><td>v</td><td>g</td></tr>\n",
       "<tr><td>e</td><td>b</td><td>s</td><td>y</td><td>t</td><td>a</td><td>f</td><td>c</td><td>b</td><td>g</td><td>e</td><td>c</td><td>s</td><td>s</td><td>w</td><td>w</td><td>p</td><td>w</td><td>o</td><td>p</td><td>k</td><td>s</td><td>m</td></tr>\n",
       "<tr><td>e</td><td>x</td><td>y</td><td>y</td><td>t</td><td>l</td><td>f</td><td>c</td><td>b</td><td>g</td><td>e</td><td>c</td><td>s</td><td>s</td><td>w</td><td>w</td><td>p</td><td>w</td><td>o</td><td>p</td><td>n</td><td>n</td><td>g</td></tr>\n",
       "<tr><td>e</td><td>x</td><td>y</td><td>y</td><td>t</td><td>a</td><td>f</td><td>c</td><td>b</td><td>n</td><td>e</td><td>c</td><td>s</td><td>s</td><td>w</td><td>w</td><td>p</td><td>w</td><td>o</td><td>p</td><td>k</td><td>s</td><td>m</td></tr>\n",
       "<tr><td>e</td><td>b</td><td>s</td><td>y</td><td>t</td><td>a</td><td>f</td><td>c</td><td>b</td><td>w</td><td>e</td><td>c</td><td>s</td><td>s</td><td>w</td><td>w</td><td>p</td><td>w</td><td>o</td><td>p</td><td>n</td><td>s</td><td>g</td></tr>\n",
       "<tr><td>p</td><td>x</td><td>y</td><td>w</td><td>t</td><td>p</td><td>f</td><td>c</td><td>n</td><td>k</td><td>e</td><td>e</td><td>s</td><td>s</td><td>w</td><td>w</td><td>p</td><td>w</td><td>o</td><td>p</td><td>n</td><td>v</td><td>u</td></tr>\n",
       "<tr><td>e</td><td>x</td><td>f</td><td>n</td><td>f</td><td>n</td><td>f</td><td>w</td><td>b</td><td>n</td><td>t</td><td>e</td><td>s</td><td>f</td><td>w</td><td>w</td><td>p</td><td>w</td><td>o</td><td>e</td><td>k</td><td>a</td><td>g</td></tr>\n",
       "<tr><td>e</td><td>s</td><td>f</td><td>g</td><td>f</td><td>n</td><td>f</td><td>c</td><td>n</td><td>k</td><td>e</td><td>e</td><td>s</td><td>s</td><td>w</td><td>w</td><td>p</td><td>w</td><td>o</td><td>p</td><td>n</td><td>y</td><td>u</td></tr>\n",
       "<tr><td>e</td><td>f</td><td>f</td><td>w</td><td>f</td><td>n</td><td>f</td><td>w</td><td>b</td><td>k</td><td>t</td><td>e</td><td>s</td><td>s</td><td>w</td><td>w</td><td>p</td><td>w</td><td>o</td><td>e</td><td>n</td><td>a</td><td>g</td></tr>\n",
       "<tr><td>p</td><td>x</td><td>s</td><td>n</td><td>t</td><td>p</td><td>f</td><td>c</td><td>n</td><td>n</td><td>e</td><td>e</td><td>s</td><td>s</td><td>w</td><td>w</td><td>p</td><td>w</td><td>o</td><td>p</td><td>k</td><td>s</td><td>g</td></tr>\n",
       "<tr><td>p</td><td>x</td><td>y</td><td>w</td><td>t</td><td>p</td><td>f</td><td>c</td><td>n</td><td>n</td><td>e</td><td>e</td><td>s</td><td>s</td><td>w</td><td>w</td><td>p</td><td>w</td><td>o</td><td>p</td><td>n</td><td>s</td><td>u</td></tr>\n",
       "<tr><td>p</td><td>x</td><td>s</td><td>n</td><td>t</td><td>p</td><td>f</td><td>c</td><td>n</td><td>k</td><td>e</td><td>e</td><td>s</td><td>s</td><td>w</td><td>w</td><td>p</td><td>w</td><td>o</td><td>p</td><td>n</td><td>s</td><td>u</td></tr>\n",
       "</table>\n",
       "only showing top 20 rows\n"
      ],
      "text/plain": [
       "+-----+---------+-----------+---------+-------+----+---------------+------------+---------+----------+-----------+----------+------------------------+------------------------+----------------------+----------------------+---------+----------+-----------+---------+-----------------+----------+-------+\n",
       "|class|cap-shape|cap-surface|cap-color|bruises|odor|gill-attachment|gill-spacing|gill-size|gill-color|stalk-shape|stalk-root|stalk-surface-above-ring|stalk-surface-below-ring|stalk-color-above-ring|stalk-color-below-ring|veil-type|veil-color|ring-number|ring-type|spore-print-color|population|habitat|\n",
       "+-----+---------+-----------+---------+-------+----+---------------+------------+---------+----------+-----------+----------+------------------------+------------------------+----------------------+----------------------+---------+----------+-----------+---------+-----------------+----------+-------+\n",
       "|    p|        x|          s|        n|      t|   p|              f|           c|        n|         k|          e|         e|                       s|                       s|                     w|                     w|        p|         w|          o|        p|                k|         s|      u|\n",
       "|    e|        x|          s|        y|      t|   a|              f|           c|        b|         k|          e|         c|                       s|                       s|                     w|                     w|        p|         w|          o|        p|                n|         n|      g|\n",
       "|    e|        b|          s|        w|      t|   l|              f|           c|        b|         n|          e|         c|                       s|                       s|                     w|                     w|        p|         w|          o|        p|                n|         n|      m|\n",
       "|    p|        x|          y|        w|      t|   p|              f|           c|        n|         n|          e|         e|                       s|                       s|                     w|                     w|        p|         w|          o|        p|                k|         s|      u|\n",
       "|    e|        x|          s|        g|      f|   n|              f|           w|        b|         k|          t|         e|                       s|                       s|                     w|                     w|        p|         w|          o|        e|                n|         a|      g|\n",
       "|    e|        x|          y|        y|      t|   a|              f|           c|        b|         n|          e|         c|                       s|                       s|                     w|                     w|        p|         w|          o|        p|                k|         n|      g|\n",
       "|    e|        b|          s|        w|      t|   a|              f|           c|        b|         g|          e|         c|                       s|                       s|                     w|                     w|        p|         w|          o|        p|                k|         n|      m|\n",
       "|    e|        b|          y|        w|      t|   l|              f|           c|        b|         n|          e|         c|                       s|                       s|                     w|                     w|        p|         w|          o|        p|                n|         s|      m|\n",
       "|    p|        x|          y|        w|      t|   p|              f|           c|        n|         p|          e|         e|                       s|                       s|                     w|                     w|        p|         w|          o|        p|                k|         v|      g|\n",
       "|    e|        b|          s|        y|      t|   a|              f|           c|        b|         g|          e|         c|                       s|                       s|                     w|                     w|        p|         w|          o|        p|                k|         s|      m|\n",
       "|    e|        x|          y|        y|      t|   l|              f|           c|        b|         g|          e|         c|                       s|                       s|                     w|                     w|        p|         w|          o|        p|                n|         n|      g|\n",
       "|    e|        x|          y|        y|      t|   a|              f|           c|        b|         n|          e|         c|                       s|                       s|                     w|                     w|        p|         w|          o|        p|                k|         s|      m|\n",
       "|    e|        b|          s|        y|      t|   a|              f|           c|        b|         w|          e|         c|                       s|                       s|                     w|                     w|        p|         w|          o|        p|                n|         s|      g|\n",
       "|    p|        x|          y|        w|      t|   p|              f|           c|        n|         k|          e|         e|                       s|                       s|                     w|                     w|        p|         w|          o|        p|                n|         v|      u|\n",
       "|    e|        x|          f|        n|      f|   n|              f|           w|        b|         n|          t|         e|                       s|                       f|                     w|                     w|        p|         w|          o|        e|                k|         a|      g|\n",
       "|    e|        s|          f|        g|      f|   n|              f|           c|        n|         k|          e|         e|                       s|                       s|                     w|                     w|        p|         w|          o|        p|                n|         y|      u|\n",
       "|    e|        f|          f|        w|      f|   n|              f|           w|        b|         k|          t|         e|                       s|                       s|                     w|                     w|        p|         w|          o|        e|                n|         a|      g|\n",
       "|    p|        x|          s|        n|      t|   p|              f|           c|        n|         n|          e|         e|                       s|                       s|                     w|                     w|        p|         w|          o|        p|                k|         s|      g|\n",
       "|    p|        x|          y|        w|      t|   p|              f|           c|        n|         n|          e|         e|                       s|                       s|                     w|                     w|        p|         w|          o|        p|                n|         s|      u|\n",
       "|    p|        x|          s|        n|      t|   p|              f|           c|        n|         k|          e|         e|                       s|                       s|                     w|                     w|        p|         w|          o|        p|                n|         s|      u|\n",
       "+-----+---------+-----------+---------+-------+----+---------------+------------+---------+----------+-----------+----------+------------------------+------------------------+----------------------+----------------------+---------+----------+-----------+---------+-----------------+----------+-------+\n",
       "only showing top 20 rows"
      ]
     },
     "execution_count": 4,
     "metadata": {},
     "output_type": "execute_result"
    }
   ],
   "source": [
    "spark.conf.set('spark.sql.repl.eagerEval.enabled', True)\n",
    "df"
   ]
  },
  {
   "cell_type": "code",
   "execution_count": 5,
   "id": "1f3cb8f6",
   "metadata": {},
   "outputs": [
    {
     "name": "stdout",
     "output_type": "stream",
     "text": [
      "+-----+---------+-----------+---------+-------+----+---------------+------------+---------+----------+-----------+----------+------------------------+------------------------+----------------------+----------------------+---------+----------+-----------+---------+-----------------+----------+-------+\n",
      "|class|cap-shape|cap-surface|cap-color|bruises|odor|gill-attachment|gill-spacing|gill-size|gill-color|stalk-shape|stalk-root|stalk-surface-above-ring|stalk-surface-below-ring|stalk-color-above-ring|stalk-color-below-ring|veil-type|veil-color|ring-number|ring-type|spore-print-color|population|habitat|\n",
      "+-----+---------+-----------+---------+-------+----+---------------+------------+---------+----------+-----------+----------+------------------------+------------------------+----------------------+----------------------+---------+----------+-----------+---------+-----------------+----------+-------+\n",
      "|    p|        x|          s|        n|      t|   p|              f|           c|        n|         k|          e|         e|                       s|                       s|                     w|                     w|        p|         w|          o|        p|                k|         s|      u|\n",
      "|    e|        x|          s|        y|      t|   a|              f|           c|        b|         k|          e|         c|                       s|                       s|                     w|                     w|        p|         w|          o|        p|                n|         n|      g|\n",
      "|    e|        b|          s|        w|      t|   l|              f|           c|        b|         n|          e|         c|                       s|                       s|                     w|                     w|        p|         w|          o|        p|                n|         n|      m|\n",
      "|    p|        x|          y|        w|      t|   p|              f|           c|        n|         n|          e|         e|                       s|                       s|                     w|                     w|        p|         w|          o|        p|                k|         s|      u|\n",
      "|    e|        x|          s|        g|      f|   n|              f|           w|        b|         k|          t|         e|                       s|                       s|                     w|                     w|        p|         w|          o|        e|                n|         a|      g|\n",
      "|    e|        x|          y|        y|      t|   a|              f|           c|        b|         n|          e|         c|                       s|                       s|                     w|                     w|        p|         w|          o|        p|                k|         n|      g|\n",
      "|    e|        b|          s|        w|      t|   a|              f|           c|        b|         g|          e|         c|                       s|                       s|                     w|                     w|        p|         w|          o|        p|                k|         n|      m|\n",
      "|    e|        b|          y|        w|      t|   l|              f|           c|        b|         n|          e|         c|                       s|                       s|                     w|                     w|        p|         w|          o|        p|                n|         s|      m|\n",
      "|    p|        x|          y|        w|      t|   p|              f|           c|        n|         p|          e|         e|                       s|                       s|                     w|                     w|        p|         w|          o|        p|                k|         v|      g|\n",
      "|    e|        b|          s|        y|      t|   a|              f|           c|        b|         g|          e|         c|                       s|                       s|                     w|                     w|        p|         w|          o|        p|                k|         s|      m|\n",
      "|    e|        x|          y|        y|      t|   l|              f|           c|        b|         g|          e|         c|                       s|                       s|                     w|                     w|        p|         w|          o|        p|                n|         n|      g|\n",
      "|    e|        x|          y|        y|      t|   a|              f|           c|        b|         n|          e|         c|                       s|                       s|                     w|                     w|        p|         w|          o|        p|                k|         s|      m|\n",
      "|    e|        b|          s|        y|      t|   a|              f|           c|        b|         w|          e|         c|                       s|                       s|                     w|                     w|        p|         w|          o|        p|                n|         s|      g|\n",
      "|    p|        x|          y|        w|      t|   p|              f|           c|        n|         k|          e|         e|                       s|                       s|                     w|                     w|        p|         w|          o|        p|                n|         v|      u|\n",
      "|    e|        x|          f|        n|      f|   n|              f|           w|        b|         n|          t|         e|                       s|                       f|                     w|                     w|        p|         w|          o|        e|                k|         a|      g|\n",
      "|    e|        s|          f|        g|      f|   n|              f|           c|        n|         k|          e|         e|                       s|                       s|                     w|                     w|        p|         w|          o|        p|                n|         y|      u|\n",
      "|    e|        f|          f|        w|      f|   n|              f|           w|        b|         k|          t|         e|                       s|                       s|                     w|                     w|        p|         w|          o|        e|                n|         a|      g|\n",
      "|    p|        x|          s|        n|      t|   p|              f|           c|        n|         n|          e|         e|                       s|                       s|                     w|                     w|        p|         w|          o|        p|                k|         s|      g|\n",
      "|    p|        x|          y|        w|      t|   p|              f|           c|        n|         n|          e|         e|                       s|                       s|                     w|                     w|        p|         w|          o|        p|                n|         s|      u|\n",
      "|    p|        x|          s|        n|      t|   p|              f|           c|        n|         k|          e|         e|                       s|                       s|                     w|                     w|        p|         w|          o|        p|                n|         s|      u|\n",
      "+-----+---------+-----------+---------+-------+----+---------------+------------+---------+----------+-----------+----------+------------------------+------------------------+----------------------+----------------------+---------+----------+-----------+---------+-----------------+----------+-------+\n",
      "only showing top 20 rows\n",
      "\n"
     ]
    }
   ],
   "source": [
    "df.show()"
   ]
  },
  {
   "cell_type": "code",
   "execution_count": 6,
   "id": "65811b0f",
   "metadata": {},
   "outputs": [],
   "source": [
    "from pyspark.ml.classification import MultilayerPerceptronClassifier"
   ]
  },
  {
   "cell_type": "code",
   "execution_count": 7,
   "id": "3780c29c",
   "metadata": {},
   "outputs": [
    {
     "data": {
      "text/html": [
       "<table border='1'>\n",
       "<tr><th>class</th><th>cap-shape</th><th>cap-surface</th><th>cap-color</th><th>bruises</th><th>odor</th><th>gill-attachment</th><th>gill-spacing</th><th>gill-size</th><th>gill-color</th><th>stalk-shape</th><th>stalk-root</th><th>stalk-surface-above-ring</th><th>stalk-surface-below-ring</th><th>stalk-color-above-ring</th><th>stalk-color-below-ring</th><th>veil-type</th><th>veil-color</th><th>ring-number</th><th>ring-type</th><th>spore-print-color</th><th>population</th><th>habitat</th><th>indexed_class</th><th>indexed_cap-shape</th><th>indexed_cap-surface</th><th>indexed_cap-color</th><th>indexed_bruises</th><th>indexed_odor</th><th>indexed_gill-attachment</th><th>indexed_gill-spacing</th><th>indexed_gill-size</th><th>indexed_gill-color</th><th>indexed_stalk-shape</th><th>indexed_stalk-root</th><th>indexed_stalk-surface-above-ring</th><th>indexed_stalk-surface-below-ring</th><th>indexed_stalk-color-above-ring</th><th>indexed_stalk-color-below-ring</th><th>indexed_veil-type</th><th>indexed_veil-color</th><th>indexed_ring-number</th><th>indexed_ring-type</th><th>indexed_spore-print-color</th><th>indexed_population</th><th>indexed_habitat</th></tr>\n",
       "<tr><td>p</td><td>x</td><td>s</td><td>n</td><td>t</td><td>p</td><td>f</td><td>c</td><td>n</td><td>k</td><td>e</td><td>e</td><td>s</td><td>s</td><td>w</td><td>w</td><td>p</td><td>w</td><td>o</td><td>p</td><td>k</td><td>s</td><td>u</td><td>1.0</td><td>0.0</td><td>1.0</td><td>0.0</td><td>1.0</td><td>6.0</td><td>0.0</td><td>0.0</td><td>1.0</td><td>7.0</td><td>1.0</td><td>2.0</td><td>0.0</td><td>0.0</td><td>0.0</td><td>0.0</td><td>0.0</td><td>0.0</td><td>0.0</td><td>0.0</td><td>2.0</td><td>2.0</td><td>4.0</td></tr>\n",
       "<tr><td>e</td><td>x</td><td>s</td><td>y</td><td>t</td><td>a</td><td>f</td><td>c</td><td>b</td><td>k</td><td>e</td><td>c</td><td>s</td><td>s</td><td>w</td><td>w</td><td>p</td><td>w</td><td>o</td><td>p</td><td>n</td><td>n</td><td>g</td><td>0.0</td><td>0.0</td><td>1.0</td><td>3.0</td><td>1.0</td><td>4.0</td><td>0.0</td><td>0.0</td><td>0.0</td><td>7.0</td><td>1.0</td><td>3.0</td><td>0.0</td><td>0.0</td><td>0.0</td><td>0.0</td><td>0.0</td><td>0.0</td><td>0.0</td><td>0.0</td><td>1.0</td><td>3.0</td><td>1.0</td></tr>\n",
       "<tr><td>e</td><td>b</td><td>s</td><td>w</td><td>t</td><td>l</td><td>f</td><td>c</td><td>b</td><td>n</td><td>e</td><td>c</td><td>s</td><td>s</td><td>w</td><td>w</td><td>p</td><td>w</td><td>o</td><td>p</td><td>n</td><td>n</td><td>m</td><td>0.0</td><td>3.0</td><td>1.0</td><td>4.0</td><td>1.0</td><td>5.0</td><td>0.0</td><td>0.0</td><td>0.0</td><td>3.0</td><td>1.0</td><td>3.0</td><td>0.0</td><td>0.0</td><td>0.0</td><td>0.0</td><td>0.0</td><td>0.0</td><td>0.0</td><td>0.0</td><td>1.0</td><td>3.0</td><td>5.0</td></tr>\n",
       "<tr><td>p</td><td>x</td><td>y</td><td>w</td><td>t</td><td>p</td><td>f</td><td>c</td><td>n</td><td>n</td><td>e</td><td>e</td><td>s</td><td>s</td><td>w</td><td>w</td><td>p</td><td>w</td><td>o</td><td>p</td><td>k</td><td>s</td><td>u</td><td>1.0</td><td>0.0</td><td>0.0</td><td>4.0</td><td>1.0</td><td>6.0</td><td>0.0</td><td>0.0</td><td>1.0</td><td>3.0</td><td>1.0</td><td>2.0</td><td>0.0</td><td>0.0</td><td>0.0</td><td>0.0</td><td>0.0</td><td>0.0</td><td>0.0</td><td>0.0</td><td>2.0</td><td>2.0</td><td>4.0</td></tr>\n",
       "<tr><td>e</td><td>x</td><td>s</td><td>g</td><td>f</td><td>n</td><td>f</td><td>w</td><td>b</td><td>k</td><td>t</td><td>e</td><td>s</td><td>s</td><td>w</td><td>w</td><td>p</td><td>w</td><td>o</td><td>e</td><td>n</td><td>a</td><td>g</td><td>0.0</td><td>0.0</td><td>1.0</td><td>1.0</td><td>0.0</td><td>0.0</td><td>0.0</td><td>1.0</td><td>0.0</td><td>7.0</td><td>0.0</td><td>2.0</td><td>0.0</td><td>0.0</td><td>0.0</td><td>0.0</td><td>0.0</td><td>0.0</td><td>0.0</td><td>1.0</td><td>1.0</td><td>4.0</td><td>1.0</td></tr>\n",
       "<tr><td>e</td><td>x</td><td>y</td><td>y</td><td>t</td><td>a</td><td>f</td><td>c</td><td>b</td><td>n</td><td>e</td><td>c</td><td>s</td><td>s</td><td>w</td><td>w</td><td>p</td><td>w</td><td>o</td><td>p</td><td>k</td><td>n</td><td>g</td><td>0.0</td><td>0.0</td><td>0.0</td><td>3.0</td><td>1.0</td><td>4.0</td><td>0.0</td><td>0.0</td><td>0.0</td><td>3.0</td><td>1.0</td><td>3.0</td><td>0.0</td><td>0.0</td><td>0.0</td><td>0.0</td><td>0.0</td><td>0.0</td><td>0.0</td><td>0.0</td><td>2.0</td><td>3.0</td><td>1.0</td></tr>\n",
       "<tr><td>e</td><td>b</td><td>s</td><td>w</td><td>t</td><td>a</td><td>f</td><td>c</td><td>b</td><td>g</td><td>e</td><td>c</td><td>s</td><td>s</td><td>w</td><td>w</td><td>p</td><td>w</td><td>o</td><td>p</td><td>k</td><td>n</td><td>m</td><td>0.0</td><td>3.0</td><td>1.0</td><td>4.0</td><td>1.0</td><td>4.0</td><td>0.0</td><td>0.0</td><td>0.0</td><td>4.0</td><td>1.0</td><td>3.0</td><td>0.0</td><td>0.0</td><td>0.0</td><td>0.0</td><td>0.0</td><td>0.0</td><td>0.0</td><td>0.0</td><td>2.0</td><td>3.0</td><td>5.0</td></tr>\n",
       "<tr><td>e</td><td>b</td><td>y</td><td>w</td><td>t</td><td>l</td><td>f</td><td>c</td><td>b</td><td>n</td><td>e</td><td>c</td><td>s</td><td>s</td><td>w</td><td>w</td><td>p</td><td>w</td><td>o</td><td>p</td><td>n</td><td>s</td><td>m</td><td>0.0</td><td>3.0</td><td>0.0</td><td>4.0</td><td>1.0</td><td>5.0</td><td>0.0</td><td>0.0</td><td>0.0</td><td>3.0</td><td>1.0</td><td>3.0</td><td>0.0</td><td>0.0</td><td>0.0</td><td>0.0</td><td>0.0</td><td>0.0</td><td>0.0</td><td>0.0</td><td>1.0</td><td>2.0</td><td>5.0</td></tr>\n",
       "<tr><td>p</td><td>x</td><td>y</td><td>w</td><td>t</td><td>p</td><td>f</td><td>c</td><td>n</td><td>p</td><td>e</td><td>e</td><td>s</td><td>s</td><td>w</td><td>w</td><td>p</td><td>w</td><td>o</td><td>p</td><td>k</td><td>v</td><td>g</td><td>1.0</td><td>0.0</td><td>0.0</td><td>4.0</td><td>1.0</td><td>6.0</td><td>0.0</td><td>0.0</td><td>1.0</td><td>1.0</td><td>1.0</td><td>2.0</td><td>0.0</td><td>0.0</td><td>0.0</td><td>0.0</td><td>0.0</td><td>0.0</td><td>0.0</td><td>0.0</td><td>2.0</td><td>0.0</td><td>1.0</td></tr>\n",
       "<tr><td>e</td><td>b</td><td>s</td><td>y</td><td>t</td><td>a</td><td>f</td><td>c</td><td>b</td><td>g</td><td>e</td><td>c</td><td>s</td><td>s</td><td>w</td><td>w</td><td>p</td><td>w</td><td>o</td><td>p</td><td>k</td><td>s</td><td>m</td><td>0.0</td><td>3.0</td><td>1.0</td><td>3.0</td><td>1.0</td><td>4.0</td><td>0.0</td><td>0.0</td><td>0.0</td><td>4.0</td><td>1.0</td><td>3.0</td><td>0.0</td><td>0.0</td><td>0.0</td><td>0.0</td><td>0.0</td><td>0.0</td><td>0.0</td><td>0.0</td><td>2.0</td><td>2.0</td><td>5.0</td></tr>\n",
       "<tr><td>e</td><td>x</td><td>y</td><td>y</td><td>t</td><td>l</td><td>f</td><td>c</td><td>b</td><td>g</td><td>e</td><td>c</td><td>s</td><td>s</td><td>w</td><td>w</td><td>p</td><td>w</td><td>o</td><td>p</td><td>n</td><td>n</td><td>g</td><td>0.0</td><td>0.0</td><td>0.0</td><td>3.0</td><td>1.0</td><td>5.0</td><td>0.0</td><td>0.0</td><td>0.0</td><td>4.0</td><td>1.0</td><td>3.0</td><td>0.0</td><td>0.0</td><td>0.0</td><td>0.0</td><td>0.0</td><td>0.0</td><td>0.0</td><td>0.0</td><td>1.0</td><td>3.0</td><td>1.0</td></tr>\n",
       "<tr><td>e</td><td>x</td><td>y</td><td>y</td><td>t</td><td>a</td><td>f</td><td>c</td><td>b</td><td>n</td><td>e</td><td>c</td><td>s</td><td>s</td><td>w</td><td>w</td><td>p</td><td>w</td><td>o</td><td>p</td><td>k</td><td>s</td><td>m</td><td>0.0</td><td>0.0</td><td>0.0</td><td>3.0</td><td>1.0</td><td>4.0</td><td>0.0</td><td>0.0</td><td>0.0</td><td>3.0</td><td>1.0</td><td>3.0</td><td>0.0</td><td>0.0</td><td>0.0</td><td>0.0</td><td>0.0</td><td>0.0</td><td>0.0</td><td>0.0</td><td>2.0</td><td>2.0</td><td>5.0</td></tr>\n",
       "<tr><td>e</td><td>b</td><td>s</td><td>y</td><td>t</td><td>a</td><td>f</td><td>c</td><td>b</td><td>w</td><td>e</td><td>c</td><td>s</td><td>s</td><td>w</td><td>w</td><td>p</td><td>w</td><td>o</td><td>p</td><td>n</td><td>s</td><td>g</td><td>0.0</td><td>3.0</td><td>1.0</td><td>3.0</td><td>1.0</td><td>4.0</td><td>0.0</td><td>0.0</td><td>0.0</td><td>2.0</td><td>1.0</td><td>3.0</td><td>0.0</td><td>0.0</td><td>0.0</td><td>0.0</td><td>0.0</td><td>0.0</td><td>0.0</td><td>0.0</td><td>1.0</td><td>2.0</td><td>1.0</td></tr>\n",
       "<tr><td>p</td><td>x</td><td>y</td><td>w</td><td>t</td><td>p</td><td>f</td><td>c</td><td>n</td><td>k</td><td>e</td><td>e</td><td>s</td><td>s</td><td>w</td><td>w</td><td>p</td><td>w</td><td>o</td><td>p</td><td>n</td><td>v</td><td>u</td><td>1.0</td><td>0.0</td><td>0.0</td><td>4.0</td><td>1.0</td><td>6.0</td><td>0.0</td><td>0.0</td><td>1.0</td><td>7.0</td><td>1.0</td><td>2.0</td><td>0.0</td><td>0.0</td><td>0.0</td><td>0.0</td><td>0.0</td><td>0.0</td><td>0.0</td><td>0.0</td><td>1.0</td><td>0.0</td><td>4.0</td></tr>\n",
       "<tr><td>e</td><td>x</td><td>f</td><td>n</td><td>f</td><td>n</td><td>f</td><td>w</td><td>b</td><td>n</td><td>t</td><td>e</td><td>s</td><td>f</td><td>w</td><td>w</td><td>p</td><td>w</td><td>o</td><td>e</td><td>k</td><td>a</td><td>g</td><td>0.0</td><td>0.0</td><td>2.0</td><td>0.0</td><td>0.0</td><td>0.0</td><td>0.0</td><td>1.0</td><td>0.0</td><td>3.0</td><td>0.0</td><td>2.0</td><td>0.0</td><td>2.0</td><td>0.0</td><td>0.0</td><td>0.0</td><td>0.0</td><td>0.0</td><td>1.0</td><td>2.0</td><td>4.0</td><td>1.0</td></tr>\n",
       "<tr><td>e</td><td>s</td><td>f</td><td>g</td><td>f</td><td>n</td><td>f</td><td>c</td><td>n</td><td>k</td><td>e</td><td>e</td><td>s</td><td>s</td><td>w</td><td>w</td><td>p</td><td>w</td><td>o</td><td>p</td><td>n</td><td>y</td><td>u</td><td>0.0</td><td>4.0</td><td>2.0</td><td>1.0</td><td>0.0</td><td>0.0</td><td>0.0</td><td>0.0</td><td>1.0</td><td>7.0</td><td>1.0</td><td>2.0</td><td>0.0</td><td>0.0</td><td>0.0</td><td>0.0</td><td>0.0</td><td>0.0</td><td>0.0</td><td>0.0</td><td>1.0</td><td>1.0</td><td>4.0</td></tr>\n",
       "<tr><td>e</td><td>f</td><td>f</td><td>w</td><td>f</td><td>n</td><td>f</td><td>w</td><td>b</td><td>k</td><td>t</td><td>e</td><td>s</td><td>s</td><td>w</td><td>w</td><td>p</td><td>w</td><td>o</td><td>e</td><td>n</td><td>a</td><td>g</td><td>0.0</td><td>1.0</td><td>2.0</td><td>4.0</td><td>0.0</td><td>0.0</td><td>0.0</td><td>1.0</td><td>0.0</td><td>7.0</td><td>0.0</td><td>2.0</td><td>0.0</td><td>0.0</td><td>0.0</td><td>0.0</td><td>0.0</td><td>0.0</td><td>0.0</td><td>1.0</td><td>1.0</td><td>4.0</td><td>1.0</td></tr>\n",
       "<tr><td>p</td><td>x</td><td>s</td><td>n</td><td>t</td><td>p</td><td>f</td><td>c</td><td>n</td><td>n</td><td>e</td><td>e</td><td>s</td><td>s</td><td>w</td><td>w</td><td>p</td><td>w</td><td>o</td><td>p</td><td>k</td><td>s</td><td>g</td><td>1.0</td><td>0.0</td><td>1.0</td><td>0.0</td><td>1.0</td><td>6.0</td><td>0.0</td><td>0.0</td><td>1.0</td><td>3.0</td><td>1.0</td><td>2.0</td><td>0.0</td><td>0.0</td><td>0.0</td><td>0.0</td><td>0.0</td><td>0.0</td><td>0.0</td><td>0.0</td><td>2.0</td><td>2.0</td><td>1.0</td></tr>\n",
       "<tr><td>p</td><td>x</td><td>y</td><td>w</td><td>t</td><td>p</td><td>f</td><td>c</td><td>n</td><td>n</td><td>e</td><td>e</td><td>s</td><td>s</td><td>w</td><td>w</td><td>p</td><td>w</td><td>o</td><td>p</td><td>n</td><td>s</td><td>u</td><td>1.0</td><td>0.0</td><td>0.0</td><td>4.0</td><td>1.0</td><td>6.0</td><td>0.0</td><td>0.0</td><td>1.0</td><td>3.0</td><td>1.0</td><td>2.0</td><td>0.0</td><td>0.0</td><td>0.0</td><td>0.0</td><td>0.0</td><td>0.0</td><td>0.0</td><td>0.0</td><td>1.0</td><td>2.0</td><td>4.0</td></tr>\n",
       "<tr><td>p</td><td>x</td><td>s</td><td>n</td><td>t</td><td>p</td><td>f</td><td>c</td><td>n</td><td>k</td><td>e</td><td>e</td><td>s</td><td>s</td><td>w</td><td>w</td><td>p</td><td>w</td><td>o</td><td>p</td><td>n</td><td>s</td><td>u</td><td>1.0</td><td>0.0</td><td>1.0</td><td>0.0</td><td>1.0</td><td>6.0</td><td>0.0</td><td>0.0</td><td>1.0</td><td>7.0</td><td>1.0</td><td>2.0</td><td>0.0</td><td>0.0</td><td>0.0</td><td>0.0</td><td>0.0</td><td>0.0</td><td>0.0</td><td>0.0</td><td>1.0</td><td>2.0</td><td>4.0</td></tr>\n",
       "</table>\n",
       "only showing top 20 rows\n"
      ],
      "text/plain": [
       "+-----+---------+-----------+---------+-------+----+---------------+------------+---------+----------+-----------+----------+------------------------+------------------------+----------------------+----------------------+---------+----------+-----------+---------+-----------------+----------+-------+-------------+-----------------+-------------------+-----------------+---------------+------------+-----------------------+--------------------+-----------------+------------------+-------------------+------------------+--------------------------------+--------------------------------+------------------------------+------------------------------+-----------------+------------------+-------------------+-----------------+-------------------------+------------------+---------------+\n",
       "|class|cap-shape|cap-surface|cap-color|bruises|odor|gill-attachment|gill-spacing|gill-size|gill-color|stalk-shape|stalk-root|stalk-surface-above-ring|stalk-surface-below-ring|stalk-color-above-ring|stalk-color-below-ring|veil-type|veil-color|ring-number|ring-type|spore-print-color|population|habitat|indexed_class|indexed_cap-shape|indexed_cap-surface|indexed_cap-color|indexed_bruises|indexed_odor|indexed_gill-attachment|indexed_gill-spacing|indexed_gill-size|indexed_gill-color|indexed_stalk-shape|indexed_stalk-root|indexed_stalk-surface-above-ring|indexed_stalk-surface-below-ring|indexed_stalk-color-above-ring|indexed_stalk-color-below-ring|indexed_veil-type|indexed_veil-color|indexed_ring-number|indexed_ring-type|indexed_spore-print-color|indexed_population|indexed_habitat|\n",
       "+-----+---------+-----------+---------+-------+----+---------------+------------+---------+----------+-----------+----------+------------------------+------------------------+----------------------+----------------------+---------+----------+-----------+---------+-----------------+----------+-------+-------------+-----------------+-------------------+-----------------+---------------+------------+-----------------------+--------------------+-----------------+------------------+-------------------+------------------+--------------------------------+--------------------------------+------------------------------+------------------------------+-----------------+------------------+-------------------+-----------------+-------------------------+------------------+---------------+\n",
       "|    p|        x|          s|        n|      t|   p|              f|           c|        n|         k|          e|         e|                       s|                       s|                     w|                     w|        p|         w|          o|        p|                k|         s|      u|          1.0|              0.0|                1.0|              0.0|            1.0|         6.0|                    0.0|                 0.0|              1.0|               7.0|                1.0|               2.0|                             0.0|                             0.0|                           0.0|                           0.0|              0.0|               0.0|                0.0|              0.0|                      2.0|               2.0|            4.0|\n",
       "|    e|        x|          s|        y|      t|   a|              f|           c|        b|         k|          e|         c|                       s|                       s|                     w|                     w|        p|         w|          o|        p|                n|         n|      g|          0.0|              0.0|                1.0|              3.0|            1.0|         4.0|                    0.0|                 0.0|              0.0|               7.0|                1.0|               3.0|                             0.0|                             0.0|                           0.0|                           0.0|              0.0|               0.0|                0.0|              0.0|                      1.0|               3.0|            1.0|\n",
       "|    e|        b|          s|        w|      t|   l|              f|           c|        b|         n|          e|         c|                       s|                       s|                     w|                     w|        p|         w|          o|        p|                n|         n|      m|          0.0|              3.0|                1.0|              4.0|            1.0|         5.0|                    0.0|                 0.0|              0.0|               3.0|                1.0|               3.0|                             0.0|                             0.0|                           0.0|                           0.0|              0.0|               0.0|                0.0|              0.0|                      1.0|               3.0|            5.0|\n",
       "|    p|        x|          y|        w|      t|   p|              f|           c|        n|         n|          e|         e|                       s|                       s|                     w|                     w|        p|         w|          o|        p|                k|         s|      u|          1.0|              0.0|                0.0|              4.0|            1.0|         6.0|                    0.0|                 0.0|              1.0|               3.0|                1.0|               2.0|                             0.0|                             0.0|                           0.0|                           0.0|              0.0|               0.0|                0.0|              0.0|                      2.0|               2.0|            4.0|\n",
       "|    e|        x|          s|        g|      f|   n|              f|           w|        b|         k|          t|         e|                       s|                       s|                     w|                     w|        p|         w|          o|        e|                n|         a|      g|          0.0|              0.0|                1.0|              1.0|            0.0|         0.0|                    0.0|                 1.0|              0.0|               7.0|                0.0|               2.0|                             0.0|                             0.0|                           0.0|                           0.0|              0.0|               0.0|                0.0|              1.0|                      1.0|               4.0|            1.0|\n",
       "|    e|        x|          y|        y|      t|   a|              f|           c|        b|         n|          e|         c|                       s|                       s|                     w|                     w|        p|         w|          o|        p|                k|         n|      g|          0.0|              0.0|                0.0|              3.0|            1.0|         4.0|                    0.0|                 0.0|              0.0|               3.0|                1.0|               3.0|                             0.0|                             0.0|                           0.0|                           0.0|              0.0|               0.0|                0.0|              0.0|                      2.0|               3.0|            1.0|\n",
       "|    e|        b|          s|        w|      t|   a|              f|           c|        b|         g|          e|         c|                       s|                       s|                     w|                     w|        p|         w|          o|        p|                k|         n|      m|          0.0|              3.0|                1.0|              4.0|            1.0|         4.0|                    0.0|                 0.0|              0.0|               4.0|                1.0|               3.0|                             0.0|                             0.0|                           0.0|                           0.0|              0.0|               0.0|                0.0|              0.0|                      2.0|               3.0|            5.0|\n",
       "|    e|        b|          y|        w|      t|   l|              f|           c|        b|         n|          e|         c|                       s|                       s|                     w|                     w|        p|         w|          o|        p|                n|         s|      m|          0.0|              3.0|                0.0|              4.0|            1.0|         5.0|                    0.0|                 0.0|              0.0|               3.0|                1.0|               3.0|                             0.0|                             0.0|                           0.0|                           0.0|              0.0|               0.0|                0.0|              0.0|                      1.0|               2.0|            5.0|\n",
       "|    p|        x|          y|        w|      t|   p|              f|           c|        n|         p|          e|         e|                       s|                       s|                     w|                     w|        p|         w|          o|        p|                k|         v|      g|          1.0|              0.0|                0.0|              4.0|            1.0|         6.0|                    0.0|                 0.0|              1.0|               1.0|                1.0|               2.0|                             0.0|                             0.0|                           0.0|                           0.0|              0.0|               0.0|                0.0|              0.0|                      2.0|               0.0|            1.0|\n",
       "|    e|        b|          s|        y|      t|   a|              f|           c|        b|         g|          e|         c|                       s|                       s|                     w|                     w|        p|         w|          o|        p|                k|         s|      m|          0.0|              3.0|                1.0|              3.0|            1.0|         4.0|                    0.0|                 0.0|              0.0|               4.0|                1.0|               3.0|                             0.0|                             0.0|                           0.0|                           0.0|              0.0|               0.0|                0.0|              0.0|                      2.0|               2.0|            5.0|\n",
       "|    e|        x|          y|        y|      t|   l|              f|           c|        b|         g|          e|         c|                       s|                       s|                     w|                     w|        p|         w|          o|        p|                n|         n|      g|          0.0|              0.0|                0.0|              3.0|            1.0|         5.0|                    0.0|                 0.0|              0.0|               4.0|                1.0|               3.0|                             0.0|                             0.0|                           0.0|                           0.0|              0.0|               0.0|                0.0|              0.0|                      1.0|               3.0|            1.0|\n",
       "|    e|        x|          y|        y|      t|   a|              f|           c|        b|         n|          e|         c|                       s|                       s|                     w|                     w|        p|         w|          o|        p|                k|         s|      m|          0.0|              0.0|                0.0|              3.0|            1.0|         4.0|                    0.0|                 0.0|              0.0|               3.0|                1.0|               3.0|                             0.0|                             0.0|                           0.0|                           0.0|              0.0|               0.0|                0.0|              0.0|                      2.0|               2.0|            5.0|\n",
       "|    e|        b|          s|        y|      t|   a|              f|           c|        b|         w|          e|         c|                       s|                       s|                     w|                     w|        p|         w|          o|        p|                n|         s|      g|          0.0|              3.0|                1.0|              3.0|            1.0|         4.0|                    0.0|                 0.0|              0.0|               2.0|                1.0|               3.0|                             0.0|                             0.0|                           0.0|                           0.0|              0.0|               0.0|                0.0|              0.0|                      1.0|               2.0|            1.0|\n",
       "|    p|        x|          y|        w|      t|   p|              f|           c|        n|         k|          e|         e|                       s|                       s|                     w|                     w|        p|         w|          o|        p|                n|         v|      u|          1.0|              0.0|                0.0|              4.0|            1.0|         6.0|                    0.0|                 0.0|              1.0|               7.0|                1.0|               2.0|                             0.0|                             0.0|                           0.0|                           0.0|              0.0|               0.0|                0.0|              0.0|                      1.0|               0.0|            4.0|\n",
       "|    e|        x|          f|        n|      f|   n|              f|           w|        b|         n|          t|         e|                       s|                       f|                     w|                     w|        p|         w|          o|        e|                k|         a|      g|          0.0|              0.0|                2.0|              0.0|            0.0|         0.0|                    0.0|                 1.0|              0.0|               3.0|                0.0|               2.0|                             0.0|                             2.0|                           0.0|                           0.0|              0.0|               0.0|                0.0|              1.0|                      2.0|               4.0|            1.0|\n",
       "|    e|        s|          f|        g|      f|   n|              f|           c|        n|         k|          e|         e|                       s|                       s|                     w|                     w|        p|         w|          o|        p|                n|         y|      u|          0.0|              4.0|                2.0|              1.0|            0.0|         0.0|                    0.0|                 0.0|              1.0|               7.0|                1.0|               2.0|                             0.0|                             0.0|                           0.0|                           0.0|              0.0|               0.0|                0.0|              0.0|                      1.0|               1.0|            4.0|\n",
       "|    e|        f|          f|        w|      f|   n|              f|           w|        b|         k|          t|         e|                       s|                       s|                     w|                     w|        p|         w|          o|        e|                n|         a|      g|          0.0|              1.0|                2.0|              4.0|            0.0|         0.0|                    0.0|                 1.0|              0.0|               7.0|                0.0|               2.0|                             0.0|                             0.0|                           0.0|                           0.0|              0.0|               0.0|                0.0|              1.0|                      1.0|               4.0|            1.0|\n",
       "|    p|        x|          s|        n|      t|   p|              f|           c|        n|         n|          e|         e|                       s|                       s|                     w|                     w|        p|         w|          o|        p|                k|         s|      g|          1.0|              0.0|                1.0|              0.0|            1.0|         6.0|                    0.0|                 0.0|              1.0|               3.0|                1.0|               2.0|                             0.0|                             0.0|                           0.0|                           0.0|              0.0|               0.0|                0.0|              0.0|                      2.0|               2.0|            1.0|\n",
       "|    p|        x|          y|        w|      t|   p|              f|           c|        n|         n|          e|         e|                       s|                       s|                     w|                     w|        p|         w|          o|        p|                n|         s|      u|          1.0|              0.0|                0.0|              4.0|            1.0|         6.0|                    0.0|                 0.0|              1.0|               3.0|                1.0|               2.0|                             0.0|                             0.0|                           0.0|                           0.0|              0.0|               0.0|                0.0|              0.0|                      1.0|               2.0|            4.0|\n",
       "|    p|        x|          s|        n|      t|   p|              f|           c|        n|         k|          e|         e|                       s|                       s|                     w|                     w|        p|         w|          o|        p|                n|         s|      u|          1.0|              0.0|                1.0|              0.0|            1.0|         6.0|                    0.0|                 0.0|              1.0|               7.0|                1.0|               2.0|                             0.0|                             0.0|                           0.0|                           0.0|              0.0|               0.0|                0.0|              0.0|                      1.0|               2.0|            4.0|\n",
       "+-----+---------+-----------+---------+-------+----+---------------+------------+---------+----------+-----------+----------+------------------------+------------------------+----------------------+----------------------+---------+----------+-----------+---------+-----------------+----------+-------+-------------+-----------------+-------------------+-----------------+---------------+------------+-----------------------+--------------------+-----------------+------------------+-------------------+------------------+--------------------------------+--------------------------------+------------------------------+------------------------------+-----------------+------------------+-------------------+-----------------+-------------------------+------------------+---------------+\n",
       "only showing top 20 rows"
      ]
     },
     "execution_count": 7,
     "metadata": {},
     "output_type": "execute_result"
    }
   ],
   "source": [
    "from pyspark.ml.feature import StringIndexer\n",
    "\n",
    "output_cols = ['indexed_class', 'indexed_cap-shape', 'indexed_cap-surface', 'indexed_cap-color', 'indexed_bruises', 'indexed_odor', \n",
    "               'indexed_gill-attachment', 'indexed_gill-spacing', 'indexed_gill-size', 'indexed_gill-color', 'indexed_stalk-shape', \n",
    "               'indexed_stalk-root', 'indexed_stalk-surface-above-ring', 'indexed_stalk-surface-below-ring', \n",
    "               'indexed_stalk-color-above-ring', 'indexed_stalk-color-below-ring', 'indexed_veil-type', 'indexed_veil-color', \n",
    "               'indexed_ring-number', 'indexed_ring-type', 'indexed_spore-print-color', 'indexed_population', 'indexed_habitat']\n",
    "\n",
    "indexer = StringIndexer(inputCols=df.columns, outputCols=output_cols)\n",
    "indexed_df = indexer.fit(df).transform(df)\n",
    "indexed_df"
   ]
  },
  {
   "cell_type": "code",
   "execution_count": 8,
   "id": "23c00e87",
   "metadata": {},
   "outputs": [],
   "source": [
    "df_train = indexed_df[['indexed_class', 'indexed_cap-shape', 'indexed_cap-surface', 'indexed_cap-color', 'indexed_bruises', 'indexed_odor', \n",
    "               'indexed_gill-attachment', 'indexed_gill-spacing', 'indexed_gill-size', 'indexed_gill-color', 'indexed_stalk-shape', \n",
    "               'indexed_stalk-root', 'indexed_stalk-surface-above-ring', 'indexed_stalk-surface-below-ring', \n",
    "               'indexed_stalk-color-above-ring', 'indexed_stalk-color-below-ring', 'indexed_veil-type', 'indexed_veil-color', \n",
    "               'indexed_ring-number', 'indexed_ring-type', 'indexed_spore-print-color', 'indexed_population', 'indexed_habitat']]"
   ]
  },
  {
   "cell_type": "code",
   "execution_count": 9,
   "id": "b49c5318",
   "metadata": {},
   "outputs": [
    {
     "data": {
      "text/html": [
       "<table border='1'>\n",
       "<tr><th>indexed_class</th><th>indexed_cap-shape</th><th>indexed_cap-surface</th><th>indexed_cap-color</th><th>indexed_bruises</th><th>indexed_odor</th><th>indexed_gill-attachment</th><th>indexed_gill-spacing</th><th>indexed_gill-size</th><th>indexed_gill-color</th><th>indexed_stalk-shape</th><th>indexed_stalk-root</th><th>indexed_stalk-surface-above-ring</th><th>indexed_stalk-surface-below-ring</th><th>indexed_stalk-color-above-ring</th><th>indexed_stalk-color-below-ring</th><th>indexed_veil-type</th><th>indexed_veil-color</th><th>indexed_ring-number</th><th>indexed_ring-type</th><th>indexed_spore-print-color</th><th>indexed_population</th><th>indexed_habitat</th></tr>\n",
       "<tr><td>1.0</td><td>0.0</td><td>1.0</td><td>0.0</td><td>1.0</td><td>6.0</td><td>0.0</td><td>0.0</td><td>1.0</td><td>7.0</td><td>1.0</td><td>2.0</td><td>0.0</td><td>0.0</td><td>0.0</td><td>0.0</td><td>0.0</td><td>0.0</td><td>0.0</td><td>0.0</td><td>2.0</td><td>2.0</td><td>4.0</td></tr>\n",
       "<tr><td>0.0</td><td>0.0</td><td>1.0</td><td>3.0</td><td>1.0</td><td>4.0</td><td>0.0</td><td>0.0</td><td>0.0</td><td>7.0</td><td>1.0</td><td>3.0</td><td>0.0</td><td>0.0</td><td>0.0</td><td>0.0</td><td>0.0</td><td>0.0</td><td>0.0</td><td>0.0</td><td>1.0</td><td>3.0</td><td>1.0</td></tr>\n",
       "<tr><td>0.0</td><td>3.0</td><td>1.0</td><td>4.0</td><td>1.0</td><td>5.0</td><td>0.0</td><td>0.0</td><td>0.0</td><td>3.0</td><td>1.0</td><td>3.0</td><td>0.0</td><td>0.0</td><td>0.0</td><td>0.0</td><td>0.0</td><td>0.0</td><td>0.0</td><td>0.0</td><td>1.0</td><td>3.0</td><td>5.0</td></tr>\n",
       "<tr><td>1.0</td><td>0.0</td><td>0.0</td><td>4.0</td><td>1.0</td><td>6.0</td><td>0.0</td><td>0.0</td><td>1.0</td><td>3.0</td><td>1.0</td><td>2.0</td><td>0.0</td><td>0.0</td><td>0.0</td><td>0.0</td><td>0.0</td><td>0.0</td><td>0.0</td><td>0.0</td><td>2.0</td><td>2.0</td><td>4.0</td></tr>\n",
       "<tr><td>0.0</td><td>0.0</td><td>1.0</td><td>1.0</td><td>0.0</td><td>0.0</td><td>0.0</td><td>1.0</td><td>0.0</td><td>7.0</td><td>0.0</td><td>2.0</td><td>0.0</td><td>0.0</td><td>0.0</td><td>0.0</td><td>0.0</td><td>0.0</td><td>0.0</td><td>1.0</td><td>1.0</td><td>4.0</td><td>1.0</td></tr>\n",
       "<tr><td>0.0</td><td>0.0</td><td>0.0</td><td>3.0</td><td>1.0</td><td>4.0</td><td>0.0</td><td>0.0</td><td>0.0</td><td>3.0</td><td>1.0</td><td>3.0</td><td>0.0</td><td>0.0</td><td>0.0</td><td>0.0</td><td>0.0</td><td>0.0</td><td>0.0</td><td>0.0</td><td>2.0</td><td>3.0</td><td>1.0</td></tr>\n",
       "<tr><td>0.0</td><td>3.0</td><td>1.0</td><td>4.0</td><td>1.0</td><td>4.0</td><td>0.0</td><td>0.0</td><td>0.0</td><td>4.0</td><td>1.0</td><td>3.0</td><td>0.0</td><td>0.0</td><td>0.0</td><td>0.0</td><td>0.0</td><td>0.0</td><td>0.0</td><td>0.0</td><td>2.0</td><td>3.0</td><td>5.0</td></tr>\n",
       "<tr><td>0.0</td><td>3.0</td><td>0.0</td><td>4.0</td><td>1.0</td><td>5.0</td><td>0.0</td><td>0.0</td><td>0.0</td><td>3.0</td><td>1.0</td><td>3.0</td><td>0.0</td><td>0.0</td><td>0.0</td><td>0.0</td><td>0.0</td><td>0.0</td><td>0.0</td><td>0.0</td><td>1.0</td><td>2.0</td><td>5.0</td></tr>\n",
       "<tr><td>1.0</td><td>0.0</td><td>0.0</td><td>4.0</td><td>1.0</td><td>6.0</td><td>0.0</td><td>0.0</td><td>1.0</td><td>1.0</td><td>1.0</td><td>2.0</td><td>0.0</td><td>0.0</td><td>0.0</td><td>0.0</td><td>0.0</td><td>0.0</td><td>0.0</td><td>0.0</td><td>2.0</td><td>0.0</td><td>1.0</td></tr>\n",
       "<tr><td>0.0</td><td>3.0</td><td>1.0</td><td>3.0</td><td>1.0</td><td>4.0</td><td>0.0</td><td>0.0</td><td>0.0</td><td>4.0</td><td>1.0</td><td>3.0</td><td>0.0</td><td>0.0</td><td>0.0</td><td>0.0</td><td>0.0</td><td>0.0</td><td>0.0</td><td>0.0</td><td>2.0</td><td>2.0</td><td>5.0</td></tr>\n",
       "<tr><td>0.0</td><td>0.0</td><td>0.0</td><td>3.0</td><td>1.0</td><td>5.0</td><td>0.0</td><td>0.0</td><td>0.0</td><td>4.0</td><td>1.0</td><td>3.0</td><td>0.0</td><td>0.0</td><td>0.0</td><td>0.0</td><td>0.0</td><td>0.0</td><td>0.0</td><td>0.0</td><td>1.0</td><td>3.0</td><td>1.0</td></tr>\n",
       "<tr><td>0.0</td><td>0.0</td><td>0.0</td><td>3.0</td><td>1.0</td><td>4.0</td><td>0.0</td><td>0.0</td><td>0.0</td><td>3.0</td><td>1.0</td><td>3.0</td><td>0.0</td><td>0.0</td><td>0.0</td><td>0.0</td><td>0.0</td><td>0.0</td><td>0.0</td><td>0.0</td><td>2.0</td><td>2.0</td><td>5.0</td></tr>\n",
       "<tr><td>0.0</td><td>3.0</td><td>1.0</td><td>3.0</td><td>1.0</td><td>4.0</td><td>0.0</td><td>0.0</td><td>0.0</td><td>2.0</td><td>1.0</td><td>3.0</td><td>0.0</td><td>0.0</td><td>0.0</td><td>0.0</td><td>0.0</td><td>0.0</td><td>0.0</td><td>0.0</td><td>1.0</td><td>2.0</td><td>1.0</td></tr>\n",
       "<tr><td>1.0</td><td>0.0</td><td>0.0</td><td>4.0</td><td>1.0</td><td>6.0</td><td>0.0</td><td>0.0</td><td>1.0</td><td>7.0</td><td>1.0</td><td>2.0</td><td>0.0</td><td>0.0</td><td>0.0</td><td>0.0</td><td>0.0</td><td>0.0</td><td>0.0</td><td>0.0</td><td>1.0</td><td>0.0</td><td>4.0</td></tr>\n",
       "<tr><td>0.0</td><td>0.0</td><td>2.0</td><td>0.0</td><td>0.0</td><td>0.0</td><td>0.0</td><td>1.0</td><td>0.0</td><td>3.0</td><td>0.0</td><td>2.0</td><td>0.0</td><td>2.0</td><td>0.0</td><td>0.0</td><td>0.0</td><td>0.0</td><td>0.0</td><td>1.0</td><td>2.0</td><td>4.0</td><td>1.0</td></tr>\n",
       "<tr><td>0.0</td><td>4.0</td><td>2.0</td><td>1.0</td><td>0.0</td><td>0.0</td><td>0.0</td><td>0.0</td><td>1.0</td><td>7.0</td><td>1.0</td><td>2.0</td><td>0.0</td><td>0.0</td><td>0.0</td><td>0.0</td><td>0.0</td><td>0.0</td><td>0.0</td><td>0.0</td><td>1.0</td><td>1.0</td><td>4.0</td></tr>\n",
       "<tr><td>0.0</td><td>1.0</td><td>2.0</td><td>4.0</td><td>0.0</td><td>0.0</td><td>0.0</td><td>1.0</td><td>0.0</td><td>7.0</td><td>0.0</td><td>2.0</td><td>0.0</td><td>0.0</td><td>0.0</td><td>0.0</td><td>0.0</td><td>0.0</td><td>0.0</td><td>1.0</td><td>1.0</td><td>4.0</td><td>1.0</td></tr>\n",
       "<tr><td>1.0</td><td>0.0</td><td>1.0</td><td>0.0</td><td>1.0</td><td>6.0</td><td>0.0</td><td>0.0</td><td>1.0</td><td>3.0</td><td>1.0</td><td>2.0</td><td>0.0</td><td>0.0</td><td>0.0</td><td>0.0</td><td>0.0</td><td>0.0</td><td>0.0</td><td>0.0</td><td>2.0</td><td>2.0</td><td>1.0</td></tr>\n",
       "<tr><td>1.0</td><td>0.0</td><td>0.0</td><td>4.0</td><td>1.0</td><td>6.0</td><td>0.0</td><td>0.0</td><td>1.0</td><td>3.0</td><td>1.0</td><td>2.0</td><td>0.0</td><td>0.0</td><td>0.0</td><td>0.0</td><td>0.0</td><td>0.0</td><td>0.0</td><td>0.0</td><td>1.0</td><td>2.0</td><td>4.0</td></tr>\n",
       "<tr><td>1.0</td><td>0.0</td><td>1.0</td><td>0.0</td><td>1.0</td><td>6.0</td><td>0.0</td><td>0.0</td><td>1.0</td><td>7.0</td><td>1.0</td><td>2.0</td><td>0.0</td><td>0.0</td><td>0.0</td><td>0.0</td><td>0.0</td><td>0.0</td><td>0.0</td><td>0.0</td><td>1.0</td><td>2.0</td><td>4.0</td></tr>\n",
       "</table>\n",
       "only showing top 20 rows\n"
      ],
      "text/plain": [
       "+-------------+-----------------+-------------------+-----------------+---------------+------------+-----------------------+--------------------+-----------------+------------------+-------------------+------------------+--------------------------------+--------------------------------+------------------------------+------------------------------+-----------------+------------------+-------------------+-----------------+-------------------------+------------------+---------------+\n",
       "|indexed_class|indexed_cap-shape|indexed_cap-surface|indexed_cap-color|indexed_bruises|indexed_odor|indexed_gill-attachment|indexed_gill-spacing|indexed_gill-size|indexed_gill-color|indexed_stalk-shape|indexed_stalk-root|indexed_stalk-surface-above-ring|indexed_stalk-surface-below-ring|indexed_stalk-color-above-ring|indexed_stalk-color-below-ring|indexed_veil-type|indexed_veil-color|indexed_ring-number|indexed_ring-type|indexed_spore-print-color|indexed_population|indexed_habitat|\n",
       "+-------------+-----------------+-------------------+-----------------+---------------+------------+-----------------------+--------------------+-----------------+------------------+-------------------+------------------+--------------------------------+--------------------------------+------------------------------+------------------------------+-----------------+------------------+-------------------+-----------------+-------------------------+------------------+---------------+\n",
       "|          1.0|              0.0|                1.0|              0.0|            1.0|         6.0|                    0.0|                 0.0|              1.0|               7.0|                1.0|               2.0|                             0.0|                             0.0|                           0.0|                           0.0|              0.0|               0.0|                0.0|              0.0|                      2.0|               2.0|            4.0|\n",
       "|          0.0|              0.0|                1.0|              3.0|            1.0|         4.0|                    0.0|                 0.0|              0.0|               7.0|                1.0|               3.0|                             0.0|                             0.0|                           0.0|                           0.0|              0.0|               0.0|                0.0|              0.0|                      1.0|               3.0|            1.0|\n",
       "|          0.0|              3.0|                1.0|              4.0|            1.0|         5.0|                    0.0|                 0.0|              0.0|               3.0|                1.0|               3.0|                             0.0|                             0.0|                           0.0|                           0.0|              0.0|               0.0|                0.0|              0.0|                      1.0|               3.0|            5.0|\n",
       "|          1.0|              0.0|                0.0|              4.0|            1.0|         6.0|                    0.0|                 0.0|              1.0|               3.0|                1.0|               2.0|                             0.0|                             0.0|                           0.0|                           0.0|              0.0|               0.0|                0.0|              0.0|                      2.0|               2.0|            4.0|\n",
       "|          0.0|              0.0|                1.0|              1.0|            0.0|         0.0|                    0.0|                 1.0|              0.0|               7.0|                0.0|               2.0|                             0.0|                             0.0|                           0.0|                           0.0|              0.0|               0.0|                0.0|              1.0|                      1.0|               4.0|            1.0|\n",
       "|          0.0|              0.0|                0.0|              3.0|            1.0|         4.0|                    0.0|                 0.0|              0.0|               3.0|                1.0|               3.0|                             0.0|                             0.0|                           0.0|                           0.0|              0.0|               0.0|                0.0|              0.0|                      2.0|               3.0|            1.0|\n",
       "|          0.0|              3.0|                1.0|              4.0|            1.0|         4.0|                    0.0|                 0.0|              0.0|               4.0|                1.0|               3.0|                             0.0|                             0.0|                           0.0|                           0.0|              0.0|               0.0|                0.0|              0.0|                      2.0|               3.0|            5.0|\n",
       "|          0.0|              3.0|                0.0|              4.0|            1.0|         5.0|                    0.0|                 0.0|              0.0|               3.0|                1.0|               3.0|                             0.0|                             0.0|                           0.0|                           0.0|              0.0|               0.0|                0.0|              0.0|                      1.0|               2.0|            5.0|\n",
       "|          1.0|              0.0|                0.0|              4.0|            1.0|         6.0|                    0.0|                 0.0|              1.0|               1.0|                1.0|               2.0|                             0.0|                             0.0|                           0.0|                           0.0|              0.0|               0.0|                0.0|              0.0|                      2.0|               0.0|            1.0|\n",
       "|          0.0|              3.0|                1.0|              3.0|            1.0|         4.0|                    0.0|                 0.0|              0.0|               4.0|                1.0|               3.0|                             0.0|                             0.0|                           0.0|                           0.0|              0.0|               0.0|                0.0|              0.0|                      2.0|               2.0|            5.0|\n",
       "|          0.0|              0.0|                0.0|              3.0|            1.0|         5.0|                    0.0|                 0.0|              0.0|               4.0|                1.0|               3.0|                             0.0|                             0.0|                           0.0|                           0.0|              0.0|               0.0|                0.0|              0.0|                      1.0|               3.0|            1.0|\n",
       "|          0.0|              0.0|                0.0|              3.0|            1.0|         4.0|                    0.0|                 0.0|              0.0|               3.0|                1.0|               3.0|                             0.0|                             0.0|                           0.0|                           0.0|              0.0|               0.0|                0.0|              0.0|                      2.0|               2.0|            5.0|\n",
       "|          0.0|              3.0|                1.0|              3.0|            1.0|         4.0|                    0.0|                 0.0|              0.0|               2.0|                1.0|               3.0|                             0.0|                             0.0|                           0.0|                           0.0|              0.0|               0.0|                0.0|              0.0|                      1.0|               2.0|            1.0|\n",
       "|          1.0|              0.0|                0.0|              4.0|            1.0|         6.0|                    0.0|                 0.0|              1.0|               7.0|                1.0|               2.0|                             0.0|                             0.0|                           0.0|                           0.0|              0.0|               0.0|                0.0|              0.0|                      1.0|               0.0|            4.0|\n",
       "|          0.0|              0.0|                2.0|              0.0|            0.0|         0.0|                    0.0|                 1.0|              0.0|               3.0|                0.0|               2.0|                             0.0|                             2.0|                           0.0|                           0.0|              0.0|               0.0|                0.0|              1.0|                      2.0|               4.0|            1.0|\n",
       "|          0.0|              4.0|                2.0|              1.0|            0.0|         0.0|                    0.0|                 0.0|              1.0|               7.0|                1.0|               2.0|                             0.0|                             0.0|                           0.0|                           0.0|              0.0|               0.0|                0.0|              0.0|                      1.0|               1.0|            4.0|\n",
       "|          0.0|              1.0|                2.0|              4.0|            0.0|         0.0|                    0.0|                 1.0|              0.0|               7.0|                0.0|               2.0|                             0.0|                             0.0|                           0.0|                           0.0|              0.0|               0.0|                0.0|              1.0|                      1.0|               4.0|            1.0|\n",
       "|          1.0|              0.0|                1.0|              0.0|            1.0|         6.0|                    0.0|                 0.0|              1.0|               3.0|                1.0|               2.0|                             0.0|                             0.0|                           0.0|                           0.0|              0.0|               0.0|                0.0|              0.0|                      2.0|               2.0|            1.0|\n",
       "|          1.0|              0.0|                0.0|              4.0|            1.0|         6.0|                    0.0|                 0.0|              1.0|               3.0|                1.0|               2.0|                             0.0|                             0.0|                           0.0|                           0.0|              0.0|               0.0|                0.0|              0.0|                      1.0|               2.0|            4.0|\n",
       "|          1.0|              0.0|                1.0|              0.0|            1.0|         6.0|                    0.0|                 0.0|              1.0|               7.0|                1.0|               2.0|                             0.0|                             0.0|                           0.0|                           0.0|              0.0|               0.0|                0.0|              0.0|                      1.0|               2.0|            4.0|\n",
       "+-------------+-----------------+-------------------+-----------------+---------------+------------+-----------------------+--------------------+-----------------+------------------+-------------------+------------------+--------------------------------+--------------------------------+------------------------------+------------------------------+-----------------+------------------+-------------------+-----------------+-------------------------+------------------+---------------+\n",
       "only showing top 20 rows"
      ]
     },
     "execution_count": 9,
     "metadata": {},
     "output_type": "execute_result"
    }
   ],
   "source": [
    "df_train"
   ]
  },
  {
   "cell_type": "code",
   "execution_count": 10,
   "id": "a903e7aa",
   "metadata": {},
   "outputs": [
    {
     "data": {
      "text/plain": [
       "['indexed_cap-shape',\n",
       " 'indexed_cap-surface',\n",
       " 'indexed_cap-color',\n",
       " 'indexed_bruises',\n",
       " 'indexed_odor',\n",
       " 'indexed_gill-attachment',\n",
       " 'indexed_gill-spacing',\n",
       " 'indexed_gill-size',\n",
       " 'indexed_gill-color',\n",
       " 'indexed_stalk-shape',\n",
       " 'indexed_stalk-root',\n",
       " 'indexed_stalk-surface-above-ring',\n",
       " 'indexed_stalk-surface-below-ring',\n",
       " 'indexed_stalk-color-above-ring',\n",
       " 'indexed_stalk-color-below-ring',\n",
       " 'indexed_veil-type',\n",
       " 'indexed_veil-color',\n",
       " 'indexed_ring-number',\n",
       " 'indexed_ring-type',\n",
       " 'indexed_spore-print-color',\n",
       " 'indexed_population',\n",
       " 'indexed_habitat']"
      ]
     },
     "execution_count": 10,
     "metadata": {},
     "output_type": "execute_result"
    }
   ],
   "source": [
    "df_train.drop('indexed_class').columns"
   ]
  },
  {
   "cell_type": "code",
   "execution_count": 11,
   "id": "fc1e759e",
   "metadata": {},
   "outputs": [
    {
     "data": {
      "text/html": [
       "<table border='1'>\n",
       "<tr><th>features</th><th>label</th></tr>\n",
       "<tr><td>(22,[1,3,4,7,8,9,...</td><td>1.0</td></tr>\n",
       "<tr><td>(22,[1,2,3,4,8,9,...</td><td>0.0</td></tr>\n",
       "<tr><td>(22,[0,1,2,3,4,8,...</td><td>0.0</td></tr>\n",
       "<tr><td>(22,[2,3,4,7,8,9,...</td><td>1.0</td></tr>\n",
       "<tr><td>(22,[1,2,6,8,10,1...</td><td>0.0</td></tr>\n",
       "<tr><td>(22,[2,3,4,8,9,10...</td><td>0.0</td></tr>\n",
       "<tr><td>(22,[0,1,2,3,4,8,...</td><td>0.0</td></tr>\n",
       "<tr><td>(22,[0,2,3,4,8,9,...</td><td>0.0</td></tr>\n",
       "<tr><td>(22,[2,3,4,7,8,9,...</td><td>1.0</td></tr>\n",
       "<tr><td>(22,[0,1,2,3,4,8,...</td><td>0.0</td></tr>\n",
       "<tr><td>(22,[2,3,4,8,9,10...</td><td>0.0</td></tr>\n",
       "<tr><td>(22,[2,3,4,8,9,10...</td><td>0.0</td></tr>\n",
       "<tr><td>(22,[0,1,2,3,4,8,...</td><td>0.0</td></tr>\n",
       "<tr><td>(22,[2,3,4,7,8,9,...</td><td>1.0</td></tr>\n",
       "<tr><td>(22,[1,6,8,10,12,...</td><td>0.0</td></tr>\n",
       "<tr><td>(22,[0,1,2,7,8,9,...</td><td>0.0</td></tr>\n",
       "<tr><td>(22,[0,1,2,6,8,10...</td><td>0.0</td></tr>\n",
       "<tr><td>(22,[1,3,4,7,8,9,...</td><td>1.0</td></tr>\n",
       "<tr><td>(22,[2,3,4,7,8,9,...</td><td>1.0</td></tr>\n",
       "<tr><td>(22,[1,3,4,7,8,9,...</td><td>1.0</td></tr>\n",
       "</table>\n",
       "only showing top 20 rows\n"
      ],
      "text/plain": [
       "+--------------------+-----+\n",
       "|            features|label|\n",
       "+--------------------+-----+\n",
       "|(22,[1,3,4,7,8,9,...|  1.0|\n",
       "|(22,[1,2,3,4,8,9,...|  0.0|\n",
       "|(22,[0,1,2,3,4,8,...|  0.0|\n",
       "|(22,[2,3,4,7,8,9,...|  1.0|\n",
       "|(22,[1,2,6,8,10,1...|  0.0|\n",
       "|(22,[2,3,4,8,9,10...|  0.0|\n",
       "|(22,[0,1,2,3,4,8,...|  0.0|\n",
       "|(22,[0,2,3,4,8,9,...|  0.0|\n",
       "|(22,[2,3,4,7,8,9,...|  1.0|\n",
       "|(22,[0,1,2,3,4,8,...|  0.0|\n",
       "|(22,[2,3,4,8,9,10...|  0.0|\n",
       "|(22,[2,3,4,8,9,10...|  0.0|\n",
       "|(22,[0,1,2,3,4,8,...|  0.0|\n",
       "|(22,[2,3,4,7,8,9,...|  1.0|\n",
       "|(22,[1,6,8,10,12,...|  0.0|\n",
       "|(22,[0,1,2,7,8,9,...|  0.0|\n",
       "|(22,[0,1,2,6,8,10...|  0.0|\n",
       "|(22,[1,3,4,7,8,9,...|  1.0|\n",
       "|(22,[2,3,4,7,8,9,...|  1.0|\n",
       "|(22,[1,3,4,7,8,9,...|  1.0|\n",
       "+--------------------+-----+\n",
       "only showing top 20 rows"
      ]
     },
     "execution_count": 11,
     "metadata": {},
     "output_type": "execute_result"
    }
   ],
   "source": [
    "from pyspark.ml.feature import VectorAssembler\n",
    "\n",
    "va = VectorAssembler(inputCols = df_train.drop('indexed_class').columns, outputCol=\"features\")\n",
    "df_train = va.transform(df_train)\n",
    "df_train = df_train[['features', 'indexed_class']]\n",
    "df_train = df_train.withColumnRenamed('indexed_class', 'label')\n",
    "df_train"
   ]
  },
  {
   "cell_type": "code",
   "execution_count": 12,
   "id": "53d36768",
   "metadata": {},
   "outputs": [],
   "source": [
    "from pyspark.ml.evaluation import BinaryClassificationEvaluator\n",
    "from pyspark.ml.tuning import TrainValidationSplit, ParamGridBuilder, CrossValidator, CrossValidatorModel\n",
    "from pyspark.ml.classification import GBTClassifier, RandomForestClassifier, RandomForestClassificationSummary\n",
    "\n",
    "mlp = MultilayerPerceptronClassifier(labelCol='label', featuresCol='features', layers=[22, 32, 32, 16, 8, 4, 2], seed=42)\n",
    "gb = GBTClassifier()\n",
    "rf = RandomForestClassifier()\n",
    "\n",
    "train, test = df_train.randomSplit([0.75, 0.25], seed=11)\n",
    "\n",
    "mlp_model = mlp.fit(train)\n",
    "gb_model = gb.fit(train)\n",
    "rf_model = rf.fit(train)\n",
    "\n",
    "pred_mlp = mlp_model.transform(test)\n",
    "pred_gb = gb_model.transform(test)\n",
    "pred_rf = rf_model.transform(test)"
   ]
  },
  {
   "cell_type": "code",
   "execution_count": 13,
   "id": "525de7cd",
   "metadata": {},
   "outputs": [
    {
     "name": "stdout",
     "output_type": "stream",
     "text": [
      "0.9989626556016598\n",
      "0.9989626556016598\n",
      "0.9979253112033195\n"
     ]
    }
   ],
   "source": [
    "evaluator = BinaryClassificationEvaluator(labelCol = 'label', rawPredictionCol='prediction')\n",
    "\n",
    "eval_mlp = evaluator.evaluate(pred_mlp)\n",
    "print(eval_mlp)\n",
    "\n",
    "eval_gb = evaluator.evaluate(pred_gb)\n",
    "print(eval_gb)\n",
    "\n",
    "eval_rf = evaluator.evaluate(pred_rf)\n",
    "print(eval_rf)"
   ]
  },
  {
   "cell_type": "code",
   "execution_count": 14,
   "id": "4242658b",
   "metadata": {},
   "outputs": [
    {
     "data": {
      "text/plain": [
       "SparseVector(22, {0: 0.0022, 1: 0.0065, 2: 0.0102, 3: 0.0159, 4: 0.4606, 6: 0.0186, 7: 0.055, 8: 0.0384, 9: 0.011, 10: 0.0182, 11: 0.0418, 12: 0.0565, 13: 0.0031, 14: 0.0033, 17: 0.0292, 18: 0.0494, 19: 0.1437, 20: 0.0269, 21: 0.0092})"
      ]
     },
     "execution_count": 14,
     "metadata": {},
     "output_type": "execute_result"
    }
   ],
   "source": [
    "rf_model.featureImportances"
   ]
  },
  {
   "cell_type": "code",
   "execution_count": 15,
   "id": "d9b02fd7",
   "metadata": {},
   "outputs": [
    {
     "data": {
      "text/plain": [
       "SparseVector(22, {0: 0.0028, 1: 0.0031, 2: 0.0006, 3: 0.0, 4: 0.9461, 5: 0.0, 6: 0.0, 7: 0.0001, 8: 0.0, 9: 0.0, 10: 0.0023, 11: 0.0002, 12: 0.0, 13: 0.0, 14: 0.0119, 17: 0.0, 19: 0.0329, 21: 0.0})"
      ]
     },
     "execution_count": 15,
     "metadata": {},
     "output_type": "execute_result"
    }
   ],
   "source": [
    "gb_model.featureImportances"
   ]
  },
  {
   "cell_type": "code",
   "execution_count": 17,
   "id": "ce768c55",
   "metadata": {},
   "outputs": [],
   "source": [
    "save_path1 = \"work/mlp_model\"\n",
    "save_path2 = \"work/gbt_model\"\n",
    "save_path3 = \"work/rf_model\"\n",
    "\n",
    "mlp_model.save(save_path1)\n",
    "gb_model.save(save_path2)\n",
    "rf_model.save(save_path3)"
   ]
  },
  {
   "cell_type": "code",
   "execution_count": null,
   "id": "3b9744ca",
   "metadata": {},
   "outputs": [],
   "source": []
  }
 ],
 "metadata": {
  "kernelspec": {
   "display_name": "Python 3 (ipykernel)",
   "language": "python",
   "name": "python3"
  },
  "language_info": {
   "name": "python",
   "version": "3.9.7"
  },
  "vscode": {
   "interpreter": {
    "hash": "0195f37c3ff1fef7fff1c3adb201cbad876e788f469b4d6bd0fbf009b0df3e59"
   }
  }
 },
 "nbformat": 4,
 "nbformat_minor": 5
}
